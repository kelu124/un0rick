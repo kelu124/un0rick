{
 "metadata": {
  "language_info": {
   "codemirror_mode": {
    "name": "ipython",
    "version": 3
   },
   "file_extension": ".py",
   "mimetype": "text/x-python",
   "name": "python",
   "nbconvert_exporter": "python",
   "pygments_lexer": "ipython3",
   "version": "3.7.3-final"
  },
  "orig_nbformat": 2,
  "kernelspec": {
   "name": "python3",
   "display_name": "Python 3"
  }
 },
 "nbformat": 4,
 "nbformat_minor": 2,
 "cells": [
  {
   "cell_type": "code",
   "execution_count": 1,
   "metadata": {},
   "outputs": [],
   "source": [
    "import numpy as np\n",
    "import matplotlib.pyplot as plt\n",
    "from random import randint\n",
    "from time import time, sleep\n",
    "from fpga_ctrl import FpgaControl\n",
    "\n",
    "%load_ext autoreload\n",
    "%autoreload 2"
   ]
  },
  {
   "cell_type": "markdown",
   "metadata": {},
   "source": [
    "# Utilities"
   ]
  },
  {
   "cell_type": "code",
   "execution_count": 2,
   "metadata": {},
   "outputs": [],
   "source": [
    "# Global constants\n",
    "SAMPLES_PER_LINE = 16384\n",
    "GAINS_MAX = 32\n",
    "LINES_MAX = 32\n",
    "SAMPLE_W = 10\n",
    "SAMPLE_N = 2 ** SAMPLE_W\n",
    "SAMPLE_FREQ = 63.75"
   ]
  },
  {
   "cell_type": "code",
   "execution_count": 3,
   "metadata": {},
   "outputs": [],
   "source": [
    "# Utility functions\n",
    "def line_to_voltage(line):\n",
    "    return [((2 * 3.3) / SAMPLE_N) * ((w & (SAMPLE_N - 1)) - SAMPLE_N // 2) for w in line]\n",
    "\n",
    "def gain_to_voltage(gain):\n",
    "    return [(1.0 / SAMPLE_N) * g for g in gain]\n",
    "\n",
    "def gain_expand(gain, length=SAMPLES_PER_LINE):\n",
    "    return [gain[x // (length // GAINS_MAX)] for x in range(length)]\n",
    "\n",
    "def gain_staircase(step_width=1, max_value=1024):\n",
    "    step_val = max_value // GAINS_MAX\n",
    "    return [step_val - 1 + step_val * step_width * (i // step_width) for i in range(GAINS_MAX)]\n",
    "\n",
    "def line_complex_sin(offset = 0):\n",
    "    return [int(512 + 200 * np.sin(2 * np.pi * offset * 1E6 / 127.5E6 + 2 * np.pi * i * 1E6 / 63.75E6) + \n",
    "                      100 * np.sin(2 * np.pi * offset * 2E6 / 127.5E6 + 2 * np.pi * i * 2E6 / 63.75E6 ) -\n",
    "                      80 * np.sin(2 * np.pi * offset * 5E6 / 127.5E6 + 2 * np.pi * i * 5E6 / 63.75E6 ) +\n",
    "                      20 * np.sin(2 * np.pi * offset * 8E6 / 127.5E6 + 2 * np.pi * i * 8E6 / 63.75E6 )) for i in range(SAMPLES_PER_LINE)]\n",
    "\n",
    "def plot_line(title, line, gain=[0]*GAINS_MAX, xlim=None, dots=False):\n",
    "    # prepare line\n",
    "    _line = line_to_voltage(line)\n",
    "    # prepare gain\n",
    "    _gain = gain_expand(gain_to_voltage(gain), len(line))\n",
    "    # prepare time\n",
    "    t = [1.0 / SAMPLE_FREQ * x for x in range(len(line))]\n",
    "    # build the plot\n",
    "    fig, ax1 = plt.subplots(figsize=(20, 10))\n",
    "    if xlim:\n",
    "        ax1.set_xlim(xlim)\n",
    "    ax2 = ax1.twinx()\n",
    "    ax1.plot(t, _line, 'b-')\n",
    "    if dots:\n",
    "        ax1.plot(t, _line, 'ro')\n",
    "    ax2.plot(t, _gain, 'g-')\n",
    "    plt.title(title)\n",
    "    ax1.set_xlabel('Time, us')\n",
    "    ax1.set_ylabel('ADC, V', color='b')\n",
    "    ax2.set_ylabel('DAC, V', color='g')\n",
    "    plt.tight_layout()\n",
    "    plt.show()\n",
    "\n",
    "def plot_line_raw(title, line, gain=[0]*GAINS_MAX, xlim=None, dots=False):\n",
    "    # prepare line\n",
    "    _line = [w & (SAMPLE_N - 1) for w in line]\n",
    "    # prepare gain\n",
    "    _gain = gain_expand(gain, len(line))\n",
    "    # prepare time\n",
    "    t = [x for x in range(len(line))]\n",
    "    # build the plot\n",
    "    fig, ax1 = plt.subplots(figsize=(20, 10))\n",
    "    if xlim:\n",
    "        ax1.set_xlim(xlim)\n",
    "    ax2 = ax1.twinx()\n",
    "    ax1.plot(t, _line, 'b-')\n",
    "    if dots:\n",
    "        ax1.plot(t, _line, 'ro')\n",
    "    ax2.plot(t, _gain, 'g-')\n",
    "    plt.title(title)\n",
    "    ax1.set_xlabel('Sample n')\n",
    "    ax1.set_ylabel('ADC code', color='b')\n",
    "    ax2.set_ylabel('DAC code', color='g')\n",
    "    plt.tight_layout()\n",
    "    plt.show()\n",
    "\n",
    "def plot_interleaved_lines(title, line0, line1, gain=[0]*GAINS_MAX, xlim=None, dots=False):\n",
    "    il_len = len(line0) * 2\n",
    "    il_freq = SAMPLE_FREQ * 2\n",
    "    # prepare line 0\n",
    "    _line0 = line_to_voltage(line0)\n",
    "    t0 = [1.0 / SAMPLE_FREQ * x for x in range(len(_line0))]\n",
    "    # prepare line 1\n",
    "    _line1 = line_to_voltage(line1)\n",
    "    t1 = [1.0 / il_freq + 1.0 / SAMPLE_FREQ * x for x in range(len(_line0))]\n",
    "    # prepare interleaved line\n",
    "    il_line = [_line1[i//2] if i % 2 else _line0[i//2] for i in range(il_len)]\n",
    "    # prepare gain\n",
    "    _gain = gain_expand(gain_to_voltage(gain), il_len)\n",
    "    # prepare time\n",
    "    t = [1.0 / il_freq * x for x in range(il_len)]\n",
    "    # build the plot\n",
    "    fig, ax1 = plt.subplots(figsize=(20, 10))\n",
    "    if xlim:\n",
    "        ax1.set_xlim(xlim)\n",
    "    ax2 = ax1.twinx()\n",
    "    ax1.plot(t, il_line, 'b-')\n",
    "    if dots:\n",
    "        ax1.plot(t0, _line0, 'ro')\n",
    "        ax1.plot(t1, _line1, 'yo')\n",
    "    ax2.plot(t, _gain, 'g-')\n",
    "    plt.title(title)\n",
    "    ax1.set_xlabel('Time, us')\n",
    "    ax1.set_ylabel('ADC, V', color='b')\n",
    "    ax2.set_ylabel('DAC, V', color='g')\n",
    "    plt.tight_layout()\n",
    "    plt.show()"
   ]
  },
  {
   "cell_type": "code",
   "execution_count": 4,
   "metadata": {},
   "outputs": [],
   "source": [
    "# For debug purposes - run only for utility functions debugging\n",
    "#test_line0 = line_complex_sin(0)\n",
    "#test_line1 = line_complex_sin(1)\n",
    "#test_gain = gain_staircase(4)\n",
    "#\n",
    "#plot_line(\"Test plot line 0\", test_line0, test_gain)\n",
    "#plot_line(\"Test plot line 0 with zoom\", test_line0, test_gain, [1.0, 5.0])\n",
    "#plot_line(\"Test plot line 1 with zoom\", test_line1, test_gain, [1.0, 2.0])\n",
    "#\n",
    "#plot_line_raw(\"Test plot line 0 raw data\", test_line0, test_gain)\n",
    "#plot_line_raw(\"Test plot line 0 raw data and zoom\", test_line0, test_gain, [1000, 1200])\n",
    "#\n",
    "#plot_interleaved_lines(\"Test plot interleaved line\", test_line0, test_line1, test_gain)\n",
    "#plot_interleaved_lines(\"Test plot interleaved line with zoom\", test_line0, test_line1, test_gain, [2.0, 4.0], True)"
   ]
  },
  {
   "cell_type": "markdown",
   "metadata": {},
   "source": [
    "# Acquisition demonstration"
   ]
  },
  {
   "cell_type": "markdown",
   "metadata": {},
   "source": [
    "## Connect FPGA"
   ]
  },
  {
   "cell_type": "code",
   "execution_count": 5,
   "metadata": {},
   "outputs": [
    {
     "output_type": "error",
     "ename": "FtdiError",
     "evalue": "UsbError: [Errno 16] Resource busy",
     "traceback": [
      "\u001b[0;31m---------------------------------------------------------------------------\u001b[0m",
      "\u001b[0;31mFtdiError\u001b[0m                                 Traceback (most recent call last)",
      "\u001b[0;32m<ipython-input-5-a0d26a901609>\u001b[0m in \u001b[0;36m<module>\u001b[0;34m()\u001b[0m\n\u001b[1;32m      1\u001b[0m \u001b[0;31m# init FTDI device\u001b[0m\u001b[0;34m\u001b[0m\u001b[0;34m\u001b[0m\u001b[0;34m\u001b[0m\u001b[0m\n\u001b[0;32m----> 2\u001b[0;31m \u001b[0mfpga\u001b[0m \u001b[0;34m=\u001b[0m \u001b[0mFpgaControl\u001b[0m\u001b[0;34m(\u001b[0m\u001b[0;34m'ftdi://ftdi:2232:/'\u001b[0m\u001b[0;34m,\u001b[0m \u001b[0mspi_freq\u001b[0m\u001b[0;34m=\u001b[0m\u001b[0;36m8E6\u001b[0m\u001b[0;34m)\u001b[0m\u001b[0;34m\u001b[0m\u001b[0;34m\u001b[0m\u001b[0m\n\u001b[0m\u001b[1;32m      3\u001b[0m \u001b[0;31m# reload configuration (optional step - just to fill BRAM (DACGAIN registers) with initial values)\u001b[0m\u001b[0;34m\u001b[0m\u001b[0;34m\u001b[0m\u001b[0;34m\u001b[0m\u001b[0m\n\u001b[1;32m      4\u001b[0m \u001b[0mfpga\u001b[0m\u001b[0;34m.\u001b[0m\u001b[0mreload\u001b[0m\u001b[0;34m(\u001b[0m\u001b[0;34m)\u001b[0m\u001b[0;34m\u001b[0m\u001b[0;34m\u001b[0m\u001b[0m\n\u001b[1;32m      5\u001b[0m \u001b[0;31m# reset fpga\u001b[0m\u001b[0;34m\u001b[0m\u001b[0;34m\u001b[0m\u001b[0;34m\u001b[0m\u001b[0m\n",
      "\u001b[0;32m/home/pi/bogdan_workspace/fpga_ctrl/fpga_ctrl.py\u001b[0m in \u001b[0;36m__init__\u001b[0;34m(self, ftdi_url, spi_freq)\u001b[0m\n\u001b[1;32m     19\u001b[0m          \u001b[0mfreq\u001b[0m \u001b[0;34m-\u001b[0m\u001b[0;34m-\u001b[0m \u001b[0mSPI\u001b[0m \u001b[0mfrequency\u001b[0m \u001b[0mup\u001b[0m \u001b[0mto\u001b[0m \u001b[0;36m8E6\u001b[0m \u001b[0;34m(\u001b[0m\u001b[0;32mfor\u001b[0m \u001b[0mFPGA\u001b[0m \u001b[0mrunning\u001b[0m \u001b[0mon\u001b[0m \u001b[0;36m64\u001b[0m \u001b[0mMHz\u001b[0m\u001b[0;34m)\u001b[0m\u001b[0;34m\u001b[0m\u001b[0;34m\u001b[0m\u001b[0m\n\u001b[1;32m     20\u001b[0m         \"\"\"\n\u001b[0;32m---> 21\u001b[0;31m         \u001b[0mself\u001b[0m\u001b[0;34m.\u001b[0m\u001b[0m_ftdi\u001b[0m \u001b[0;34m=\u001b[0m \u001b[0mFtdiDevice\u001b[0m\u001b[0;34m(\u001b[0m\u001b[0mftdi_url\u001b[0m\u001b[0;34m,\u001b[0m \u001b[0mspi_freq\u001b[0m\u001b[0;34m)\u001b[0m\u001b[0;34m\u001b[0m\u001b[0;34m\u001b[0m\u001b[0m\n\u001b[0m\u001b[1;32m     22\u001b[0m         \u001b[0mself\u001b[0m\u001b[0;34m.\u001b[0m\u001b[0mcsr\u001b[0m \u001b[0;34m=\u001b[0m \u001b[0mCsrMap\u001b[0m\u001b[0;34m(\u001b[0m\u001b[0mself\u001b[0m\u001b[0;34m.\u001b[0m\u001b[0m_ftdi\u001b[0m\u001b[0;34m)\u001b[0m\u001b[0;34m\u001b[0m\u001b[0;34m\u001b[0m\u001b[0m\n\u001b[1;32m     23\u001b[0m \u001b[0;34m\u001b[0m\u001b[0m\n",
      "\u001b[0;32m/home/pi/bogdan_workspace/fpga_ctrl/ftdi_dev.py\u001b[0m in \u001b[0;36m__init__\u001b[0;34m(self, ftdi_url, spi_freq)\u001b[0m\n\u001b[1;32m     54\u001b[0m         \u001b[0;31m# Configure SPI master\u001b[0m\u001b[0;34m\u001b[0m\u001b[0;34m\u001b[0m\u001b[0;34m\u001b[0m\u001b[0m\n\u001b[1;32m     55\u001b[0m         \u001b[0mself\u001b[0m\u001b[0;34m.\u001b[0m\u001b[0m_spi_ctrl\u001b[0m \u001b[0;34m=\u001b[0m \u001b[0mSpiController\u001b[0m\u001b[0;34m(\u001b[0m\u001b[0;34m)\u001b[0m\u001b[0;34m\u001b[0m\u001b[0;34m\u001b[0m\u001b[0m\n\u001b[0;32m---> 56\u001b[0;31m         \u001b[0mself\u001b[0m\u001b[0;34m.\u001b[0m\u001b[0m_spi_ctrl\u001b[0m\u001b[0;34m.\u001b[0m\u001b[0mconfigure\u001b[0m\u001b[0;34m(\u001b[0m\u001b[0mftdi_url\u001b[0m \u001b[0;34m+\u001b[0m \u001b[0;34m'2'\u001b[0m\u001b[0;34m)\u001b[0m \u001b[0;31m# second port - channel B\u001b[0m\u001b[0;34m\u001b[0m\u001b[0;34m\u001b[0m\u001b[0m\n\u001b[0m\u001b[1;32m     57\u001b[0m         \u001b[0mself\u001b[0m\u001b[0;34m.\u001b[0m\u001b[0m_spi_port\u001b[0m \u001b[0;34m=\u001b[0m \u001b[0mself\u001b[0m\u001b[0;34m.\u001b[0m\u001b[0m_spi_ctrl\u001b[0m\u001b[0;34m.\u001b[0m\u001b[0mget_port\u001b[0m\u001b[0;34m(\u001b[0m\u001b[0mcs\u001b[0m\u001b[0;34m=\u001b[0m\u001b[0;36m0\u001b[0m\u001b[0;34m,\u001b[0m \u001b[0mfreq\u001b[0m\u001b[0;34m=\u001b[0m\u001b[0mspi_freq\u001b[0m\u001b[0;34m,\u001b[0m \u001b[0mmode\u001b[0m\u001b[0;34m=\u001b[0m\u001b[0;36m0\u001b[0m\u001b[0;34m)\u001b[0m\u001b[0;34m\u001b[0m\u001b[0;34m\u001b[0m\u001b[0m\n\u001b[1;32m     58\u001b[0m         \u001b[0;31m# Configure FPGA logic reset (ICE_RESET_FT)\u001b[0m\u001b[0;34m\u001b[0m\u001b[0;34m\u001b[0m\u001b[0;34m\u001b[0m\u001b[0m\n",
      "\u001b[0;32m/home/pi/.local/lib/python3.7/site-packages/pyftdi/spi.py\u001b[0m in \u001b[0;36mconfigure\u001b[0;34m(self, url, **kwargs)\u001b[0m\n\u001b[1;32m    456\u001b[0m                     url, interface=interface, **kwargs)\n\u001b[1;32m    457\u001b[0m             \u001b[0;32melse\u001b[0m\u001b[0;34m:\u001b[0m\u001b[0;34m\u001b[0m\u001b[0;34m\u001b[0m\u001b[0m\n\u001b[0;32m--> 458\u001b[0;31m                 \u001b[0mself\u001b[0m\u001b[0;34m.\u001b[0m\u001b[0m_frequency\u001b[0m \u001b[0;34m=\u001b[0m \u001b[0mself\u001b[0m\u001b[0;34m.\u001b[0m\u001b[0m_ftdi\u001b[0m\u001b[0;34m.\u001b[0m\u001b[0mopen_mpsse_from_url\u001b[0m\u001b[0;34m(\u001b[0m\u001b[0murl\u001b[0m\u001b[0;34m,\u001b[0m \u001b[0;34m**\u001b[0m\u001b[0mkwargs\u001b[0m\u001b[0;34m)\u001b[0m\u001b[0;34m\u001b[0m\u001b[0;34m\u001b[0m\u001b[0m\n\u001b[0m\u001b[1;32m    459\u001b[0m             \u001b[0mself\u001b[0m\u001b[0;34m.\u001b[0m\u001b[0m_ftdi\u001b[0m\u001b[0;34m.\u001b[0m\u001b[0menable_adaptive_clock\u001b[0m\u001b[0;34m(\u001b[0m\u001b[0;32mFalse\u001b[0m\u001b[0;34m)\u001b[0m\u001b[0;34m\u001b[0m\u001b[0;34m\u001b[0m\u001b[0m\n\u001b[1;32m    460\u001b[0m             \u001b[0mself\u001b[0m\u001b[0;34m.\u001b[0m\u001b[0m_wide_port\u001b[0m \u001b[0;34m=\u001b[0m \u001b[0mself\u001b[0m\u001b[0;34m.\u001b[0m\u001b[0m_ftdi\u001b[0m\u001b[0;34m.\u001b[0m\u001b[0mhas_wide_port\u001b[0m\u001b[0;34m\u001b[0m\u001b[0;34m\u001b[0m\u001b[0m\n",
      "\u001b[0;32m/home/pi/.local/lib/python3.7/site-packages/pyftdi/ftdi.py\u001b[0m in \u001b[0;36mopen_mpsse_from_url\u001b[0;34m(self, url, direction, initial, frequency, latency, debug)\u001b[0m\n\u001b[1;32m    650\u001b[0m                                            \u001b[0mfrequency\u001b[0m\u001b[0;34m=\u001b[0m\u001b[0mfrequency\u001b[0m\u001b[0;34m,\u001b[0m\u001b[0;34m\u001b[0m\u001b[0;34m\u001b[0m\u001b[0m\n\u001b[1;32m    651\u001b[0m                                            \u001b[0mlatency\u001b[0m\u001b[0;34m=\u001b[0m\u001b[0mlatency\u001b[0m\u001b[0;34m,\u001b[0m\u001b[0;34m\u001b[0m\u001b[0;34m\u001b[0m\u001b[0m\n\u001b[0;32m--> 652\u001b[0;31m                                            debug=debug)\n\u001b[0m\u001b[1;32m    653\u001b[0m \u001b[0;34m\u001b[0m\u001b[0m\n\u001b[1;32m    654\u001b[0m     def open_mpsse(self, vendor: int, product: int, bus: Optional[int] = None,\n",
      "\u001b[0;32m/home/pi/.local/lib/python3.7/site-packages/pyftdi/ftdi.py\u001b[0m in \u001b[0;36mopen_mpsse_from_device\u001b[0;34m(self, device, interface, direction, initial, frequency, latency, tracer, debug)\u001b[0m\n\u001b[1;32m    766\u001b[0m         \u001b[0mself\u001b[0m\u001b[0;34m.\u001b[0m\u001b[0mset_bitmode\u001b[0m\u001b[0;34m(\u001b[0m\u001b[0mdirection\u001b[0m\u001b[0;34m,\u001b[0m \u001b[0mFtdi\u001b[0m\u001b[0;34m.\u001b[0m\u001b[0mBitMode\u001b[0m\u001b[0;34m.\u001b[0m\u001b[0mMPSSE\u001b[0m\u001b[0;34m)\u001b[0m\u001b[0;34m\u001b[0m\u001b[0;34m\u001b[0m\u001b[0m\n\u001b[1;32m    767\u001b[0m         \u001b[0;31m# Configure clock\u001b[0m\u001b[0;34m\u001b[0m\u001b[0;34m\u001b[0m\u001b[0;34m\u001b[0m\u001b[0m\n\u001b[0;32m--> 768\u001b[0;31m         \u001b[0mfrequency\u001b[0m \u001b[0;34m=\u001b[0m \u001b[0mself\u001b[0m\u001b[0;34m.\u001b[0m\u001b[0m_set_frequency\u001b[0m\u001b[0;34m(\u001b[0m\u001b[0mfrequency\u001b[0m\u001b[0;34m)\u001b[0m\u001b[0;34m\u001b[0m\u001b[0;34m\u001b[0m\u001b[0m\n\u001b[0m\u001b[1;32m    769\u001b[0m         \u001b[0;31m# Configure I/O\u001b[0m\u001b[0;34m\u001b[0m\u001b[0;34m\u001b[0m\u001b[0;34m\u001b[0m\u001b[0m\n\u001b[1;32m    770\u001b[0m         \u001b[0mcmd\u001b[0m \u001b[0;34m=\u001b[0m \u001b[0mbytearray\u001b[0m\u001b[0;34m(\u001b[0m\u001b[0;34m(\u001b[0m\u001b[0mFtdi\u001b[0m\u001b[0;34m.\u001b[0m\u001b[0mSET_BITS_LOW\u001b[0m\u001b[0;34m,\u001b[0m \u001b[0minitial\u001b[0m \u001b[0;34m&\u001b[0m \u001b[0;36m0xFF\u001b[0m\u001b[0;34m,\u001b[0m \u001b[0mdirection\u001b[0m \u001b[0;34m&\u001b[0m \u001b[0;36m0xFF\u001b[0m\u001b[0;34m)\u001b[0m\u001b[0;34m)\u001b[0m\u001b[0;34m\u001b[0m\u001b[0;34m\u001b[0m\u001b[0m\n",
      "\u001b[0;32m/home/pi/.local/lib/python3.7/site-packages/pyftdi/ftdi.py\u001b[0m in \u001b[0;36m_set_frequency\u001b[0;34m(self, frequency)\u001b[0m\n\u001b[1;32m   2305\u001b[0m         cmd.extend((Ftdi.SET_TCK_DIVISOR, divisor & 0xff,\n\u001b[1;32m   2306\u001b[0m                     (divisor >> 8) & 0xff))\n\u001b[0;32m-> 2307\u001b[0;31m         \u001b[0mself\u001b[0m\u001b[0;34m.\u001b[0m\u001b[0mwrite_data\u001b[0m\u001b[0;34m(\u001b[0m\u001b[0mcmd\u001b[0m\u001b[0;34m)\u001b[0m\u001b[0;34m\u001b[0m\u001b[0;34m\u001b[0m\u001b[0m\n\u001b[0m\u001b[1;32m   2308\u001b[0m         \u001b[0mself\u001b[0m\u001b[0;34m.\u001b[0m\u001b[0mvalidate_mpsse\u001b[0m\u001b[0;34m(\u001b[0m\u001b[0;34m)\u001b[0m\u001b[0;34m\u001b[0m\u001b[0;34m\u001b[0m\u001b[0m\n\u001b[1;32m   2309\u001b[0m         \u001b[0;31m# Drain input buffer\u001b[0m\u001b[0;34m\u001b[0m\u001b[0;34m\u001b[0m\u001b[0;34m\u001b[0m\u001b[0m\n",
      "\u001b[0;32m/home/pi/.local/lib/python3.7/site-packages/pyftdi/ftdi.py\u001b[0m in \u001b[0;36mwrite_data\u001b[0;34m(self, data)\u001b[0m\n\u001b[1;32m   1773\u001b[0m                 \u001b[0;32mif\u001b[0m \u001b[0moffset\u001b[0m \u001b[0;34m+\u001b[0m \u001b[0mwrite_size\u001b[0m \u001b[0;34m>\u001b[0m \u001b[0msize\u001b[0m\u001b[0;34m:\u001b[0m\u001b[0;34m\u001b[0m\u001b[0;34m\u001b[0m\u001b[0m\n\u001b[1;32m   1774\u001b[0m                     \u001b[0mwrite_size\u001b[0m \u001b[0;34m=\u001b[0m \u001b[0msize\u001b[0m \u001b[0;34m-\u001b[0m \u001b[0moffset\u001b[0m\u001b[0;34m\u001b[0m\u001b[0;34m\u001b[0m\u001b[0m\n\u001b[0;32m-> 1775\u001b[0;31m                 \u001b[0mlength\u001b[0m \u001b[0;34m=\u001b[0m \u001b[0mself\u001b[0m\u001b[0;34m.\u001b[0m\u001b[0m_write\u001b[0m\u001b[0;34m(\u001b[0m\u001b[0mdata\u001b[0m\u001b[0;34m[\u001b[0m\u001b[0moffset\u001b[0m\u001b[0;34m:\u001b[0m\u001b[0moffset\u001b[0m\u001b[0;34m+\u001b[0m\u001b[0mwrite_size\u001b[0m\u001b[0;34m]\u001b[0m\u001b[0;34m)\u001b[0m\u001b[0;34m\u001b[0m\u001b[0;34m\u001b[0m\u001b[0m\n\u001b[0m\u001b[1;32m   1776\u001b[0m                 \u001b[0;31m# print('WRITE', offset, size, length)\u001b[0m\u001b[0;34m\u001b[0m\u001b[0;34m\u001b[0m\u001b[0;34m\u001b[0m\u001b[0m\n\u001b[1;32m   1777\u001b[0m                 \u001b[0;32mif\u001b[0m \u001b[0mlength\u001b[0m \u001b[0;34m<=\u001b[0m \u001b[0;36m0\u001b[0m\u001b[0;34m:\u001b[0m\u001b[0;34m\u001b[0m\u001b[0;34m\u001b[0m\u001b[0m\n",
      "\u001b[0;32m/home/pi/.local/lib/python3.7/site-packages/pyftdi/ftdi.py\u001b[0m in \u001b[0;36m_write\u001b[0;34m(self, data)\u001b[0m\n\u001b[1;32m   2085\u001b[0m                                        self._usb_write_timeout)\n\u001b[1;32m   2086\u001b[0m         \u001b[0;32mexcept\u001b[0m \u001b[0mUSBError\u001b[0m \u001b[0;32mas\u001b[0m \u001b[0mex\u001b[0m\u001b[0;34m:\u001b[0m\u001b[0;34m\u001b[0m\u001b[0;34m\u001b[0m\u001b[0m\n\u001b[0;32m-> 2087\u001b[0;31m             \u001b[0;32mraise\u001b[0m \u001b[0mFtdiError\u001b[0m\u001b[0;34m(\u001b[0m\u001b[0;34m'UsbError: %s'\u001b[0m \u001b[0;34m%\u001b[0m \u001b[0mstr\u001b[0m\u001b[0;34m(\u001b[0m\u001b[0mex\u001b[0m\u001b[0;34m)\u001b[0m\u001b[0;34m)\u001b[0m \u001b[0;32mfrom\u001b[0m \u001b[0;32mNone\u001b[0m\u001b[0;34m\u001b[0m\u001b[0;34m\u001b[0m\u001b[0m\n\u001b[0m\u001b[1;32m   2088\u001b[0m \u001b[0;34m\u001b[0m\u001b[0m\n\u001b[1;32m   2089\u001b[0m     \u001b[0;32mdef\u001b[0m \u001b[0m_read\u001b[0m\u001b[0;34m(\u001b[0m\u001b[0mself\u001b[0m\u001b[0;34m)\u001b[0m \u001b[0;34m->\u001b[0m \u001b[0mbytes\u001b[0m\u001b[0;34m:\u001b[0m\u001b[0;34m\u001b[0m\u001b[0;34m\u001b[0m\u001b[0m\n",
      "\u001b[0;31mFtdiError\u001b[0m: UsbError: [Errno 16] Resource busy"
     ]
    }
   ],
   "source": [
    "# init FTDI device\n",
    "fpga = FpgaControl('ftdi://ftdi:2232:/', spi_freq=8E6)\n",
    "# reload configuration (optional step - just to fill BRAM (DACGAIN registers) with initial values)\n",
    "fpga.reload()\n",
    "# reset fpga\n",
    "fpga.reset()"
   ]
  },
  {
   "cell_type": "markdown",
   "metadata": {},
   "source": [
    "## Do acquisition"
   ]
  },
  {
   "source": [
    "### Simple acquisition with no gain"
   ],
   "cell_type": "markdown",
   "metadata": {}
  },
  {
   "cell_type": "code",
   "execution_count": null,
   "metadata": {},
   "outputs": [],
   "source": [
    "gain = [0]*32\n",
    "acq_res = fpga.do_acquisition(acq_lines=1, gain=gain, double_rate=False)\n",
    "plot_line(\"Acq with no gain\", acq_res[0], gain)"
   ]
  },
  {
   "source": [
    "### Acuisition of several lines with some gain"
   ],
   "cell_type": "markdown",
   "metadata": {}
  },
  {
   "cell_type": "code",
   "execution_count": null,
   "metadata": {},
   "outputs": [],
   "source": [
    "gain = gain_staircase(4, 800)\n",
    "acq_res = fpga.do_acquisition(acq_lines=2, gain=gain, double_rate=False)\n",
    "\n",
    "print(acq_res[0] == acq_res[1])\n",
    "plot_line(\"Acq 0\", acq_res[0], gain)\n",
    "plot_line(\"Acq 1\", acq_res[1], gain)\n",
    "plot_line(\"Acq 0 with zoom\", acq_res[0], gain, [30.0, 50.0])"
   ]
  },
  {
   "source": [
    "### Interleaved acuisition"
   ],
   "cell_type": "markdown",
   "metadata": {}
  },
  {
   "cell_type": "code",
   "execution_count": null,
   "metadata": {},
   "outputs": [],
   "source": [
    "gain = gain_staircase(4, 800)\n",
    "acq_res = fpga.do_acquisition(acq_lines=2, gain=gain, double_rate=True)\n",
    "\n",
    "plot_interleaved_lines(\"Acq interleaved\", acq_res[0], acq_res[1], gain)\n",
    "plot_interleaved_lines(\"Acq interleaved line with zoom\", acq_res[0], acq_res[1], gain, [39.0, 41.0])\n",
    "plot_interleaved_lines(\"Acq interleaved line with zoom and dots\", acq_res[0], acq_res[1], gain, [39.0, 41.0], True)\n",
    "plot_line(\"Acq 1 with zoom\", acq_res[1], gain, [39.0, 41.0], True)"
   ]
  },
  {
   "source": [
    "### Maximum number of lines"
   ],
   "cell_type": "markdown",
   "metadata": {}
  },
  {
   "cell_type": "code",
   "execution_count": null,
   "metadata": {},
   "outputs": [],
   "source": [
    "gain = gain_staircase(4, 800)\n",
    "acq_res = fpga.do_acquisition(acq_lines=32, gain=gain, double_rate=False)\n",
    "\n",
    "acq_res_hashes = [hash(tuple(a)) for a in acq_res]\n",
    "print(\"All lines are unique:\", len(acq_res_hashes) == len(set(acq_res_hashes)))\n",
    "\n",
    "# print first, last and some random lines\n",
    "plot_line(\"Acq 0\", acq_res[0], gain)\n",
    "for _ in range(4):\n",
    "    acq_num = randint(1, 30)\n",
    "    plot_line(\"Acq %d\" % acq_num, acq_res[acq_num], gain)\n",
    "plot_line(\"Acq 31\", acq_res[31], gain)\n"
   ]
  },
  {
   "cell_type": "markdown",
   "metadata": {},
   "source": [
    "## Disconnect FPGA"
   ]
  },
  {
   "cell_type": "code",
   "execution_count": null,
   "metadata": {},
   "outputs": [],
   "source": [
    "# reset fpga again (optional)\n",
    "fpga.reset()\n",
    "# close FTDI interface\n",
    "fpga.disconnect()"
   ]
  }
 ]
}