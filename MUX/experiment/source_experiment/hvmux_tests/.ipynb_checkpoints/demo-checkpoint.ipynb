{
 "cells": [
  {
   "cell_type": "code",
   "execution_count": 1,
   "metadata": {},
   "outputs": [
    {
     "name": "stderr",
     "output_type": "stream",
     "text": [
      "In /home/kelu/.local/lib/python3.6/site-packages/matplotlib/mpl-data/stylelib/_classic_test.mplstyle: \n",
      "The text.latex.preview rcparam was deprecated in Matplotlib 3.3 and will be removed two minor releases later.\n",
      "In /home/kelu/.local/lib/python3.6/site-packages/matplotlib/mpl-data/stylelib/_classic_test.mplstyle: \n",
      "The mathtext.fallback_to_cm rcparam was deprecated in Matplotlib 3.3 and will be removed two minor releases later.\n",
      "In /home/kelu/.local/lib/python3.6/site-packages/matplotlib/mpl-data/stylelib/_classic_test.mplstyle: Support for setting the 'mathtext.fallback_to_cm' rcParam is deprecated since 3.3 and will be removed two minor releases later; use 'mathtext.fallback : 'cm' instead.\n",
      "In /home/kelu/.local/lib/python3.6/site-packages/matplotlib/mpl-data/stylelib/_classic_test.mplstyle: \n",
      "The validate_bool_maybe_none function was deprecated in Matplotlib 3.3 and will be removed two minor releases later.\n",
      "In /home/kelu/.local/lib/python3.6/site-packages/matplotlib/mpl-data/stylelib/_classic_test.mplstyle: \n",
      "The savefig.jpeg_quality rcparam was deprecated in Matplotlib 3.3 and will be removed two minor releases later.\n",
      "In /home/kelu/.local/lib/python3.6/site-packages/matplotlib/mpl-data/stylelib/_classic_test.mplstyle: \n",
      "The keymap.all_axes rcparam was deprecated in Matplotlib 3.3 and will be removed two minor releases later.\n",
      "In /home/kelu/.local/lib/python3.6/site-packages/matplotlib/mpl-data/stylelib/_classic_test.mplstyle: \n",
      "The animation.avconv_path rcparam was deprecated in Matplotlib 3.3 and will be removed two minor releases later.\n",
      "In /home/kelu/.local/lib/python3.6/site-packages/matplotlib/mpl-data/stylelib/_classic_test.mplstyle: \n",
      "The animation.avconv_args rcparam was deprecated in Matplotlib 3.3 and will be removed two minor releases later.\n"
     ]
    }
   ],
   "source": [
    "import numpy as np\n",
    "import matplotlib.pyplot as plt\n",
    "from random import randint\n",
    "from time import time, sleep\n",
    "from fpga_ctrl import FpgaControl\n",
    "\n",
    "%load_ext autoreload\n",
    "%autoreload 2"
   ]
  },
  {
   "cell_type": "markdown",
   "metadata": {},
   "source": [
    "# Utilities"
   ]
  },
  {
   "cell_type": "code",
   "execution_count": 2,
   "metadata": {},
   "outputs": [],
   "source": [
    "# Global constants\n",
    "SAMPLES_PER_LINE = 16384\n",
    "GAINS_MAX = 32\n",
    "LINES_MAX = 32\n",
    "SAMPLE_W = 10\n",
    "SAMPLE_N = 2 ** SAMPLE_W\n",
    "SAMPLE_FREQ = 63.75"
   ]
  },
  {
   "cell_type": "code",
   "execution_count": 3,
   "metadata": {},
   "outputs": [],
   "source": [
    "# Utility functions\n",
    "def line_to_voltage(line):\n",
    "    return [((2 * 3.3) / SAMPLE_N) * ((w & (SAMPLE_N - 1)) - SAMPLE_N // 2) for w in line]\n",
    "\n",
    "def gain_to_voltage(gain):\n",
    "    return [(1.0 / SAMPLE_N) * g for g in gain]\n",
    "\n",
    "def gain_expand(gain, length=SAMPLES_PER_LINE):\n",
    "    return [gain[x // (length // GAINS_MAX)] for x in range(length)]\n",
    "\n",
    "def gain_staircase(step_width=1, max_value=1024):\n",
    "    step_val = max_value // GAINS_MAX\n",
    "    return [step_val - 1 + step_val * step_width * (i // step_width) for i in range(GAINS_MAX)]\n",
    "\n",
    "def line_complex_sin(offset = 0):\n",
    "    return [int(512 + 200 * np.sin(2 * np.pi * offset * 1E6 / 127.5E6 + 2 * np.pi * i * 1E6 / 63.75E6) + \n",
    "                      100 * np.sin(2 * np.pi * offset * 2E6 / 127.5E6 + 2 * np.pi * i * 2E6 / 63.75E6 ) -\n",
    "                      80 * np.sin(2 * np.pi * offset * 5E6 / 127.5E6 + 2 * np.pi * i * 5E6 / 63.75E6 ) +\n",
    "                      20 * np.sin(2 * np.pi * offset * 8E6 / 127.5E6 + 2 * np.pi * i * 8E6 / 63.75E6 )) for i in range(SAMPLES_PER_LINE)]\n",
    "\n",
    "def plot_line(title, line, gain=[0]*GAINS_MAX, xlim=None, dots=False):\n",
    "    # prepare line\n",
    "    _line = line_to_voltage(line)\n",
    "    # prepare gain\n",
    "    _gain = gain_expand(gain_to_voltage(gain), len(line))\n",
    "    # prepare time\n",
    "    t = [1.0 / SAMPLE_FREQ * x for x in range(len(line))]\n",
    "    # build the plot\n",
    "    fig, ax1 = plt.subplots(figsize=(20, 10))\n",
    "    if xlim:\n",
    "        ax1.set_xlim(xlim)\n",
    "    ax2 = ax1.twinx()\n",
    "    ax1.plot(t, _line, 'b-')\n",
    "    if dots:\n",
    "        ax1.plot(t, _line, 'ro')\n",
    "    ax2.plot(t, _gain, 'g-')\n",
    "    plt.title(title)\n",
    "    ax1.set_xlabel('Time, us')\n",
    "    ax1.set_ylabel('ADC, V', color='b')\n",
    "    ax2.set_ylabel('DAC, V', color='g')\n",
    "    plt.tight_layout()\n",
    "    plt.show()\n",
    "\n",
    "def plot_line_raw(title, line, gain=[0]*GAINS_MAX, xlim=None, dots=False):\n",
    "    # prepare line\n",
    "    _line = [w & (SAMPLE_N - 1) for w in line]\n",
    "    # prepare gain\n",
    "    _gain = gain_expand(gain, len(line))\n",
    "    # prepare time\n",
    "    t = [x for x in range(len(line))]\n",
    "    # build the plot\n",
    "    fig, ax1 = plt.subplots(figsize=(20, 10))\n",
    "    if xlim:\n",
    "        ax1.set_xlim(xlim)\n",
    "    ax2 = ax1.twinx()\n",
    "    ax1.plot(t, _line, 'b-')\n",
    "    if dots:\n",
    "        ax1.plot(t, _line, 'ro')\n",
    "    ax2.plot(t, _gain, 'g-')\n",
    "    plt.title(title)\n",
    "    ax1.set_xlabel('Sample n')\n",
    "    ax1.set_ylabel('ADC code', color='b')\n",
    "    ax2.set_ylabel('DAC code', color='g')\n",
    "    plt.tight_layout()\n",
    "    plt.show()\n",
    "\n",
    "def plot_interleaved_lines(title, line0, line1, gain=[0]*GAINS_MAX, xlim=None, dots=False):\n",
    "    il_len = len(line0) * 2\n",
    "    il_freq = SAMPLE_FREQ * 2\n",
    "    # prepare line 0\n",
    "    _line0 = line_to_voltage(line0)\n",
    "    t0 = [1.0 / SAMPLE_FREQ * x for x in range(len(_line0))]\n",
    "    # prepare line 1\n",
    "    _line1 = line_to_voltage(line1)\n",
    "    t1 = [1.0 / il_freq + 1.0 / SAMPLE_FREQ * x for x in range(len(_line0))]\n",
    "    # prepare interleaved line\n",
    "    il_line = [_line1[i//2] if i % 2 else _line0[i//2] for i in range(il_len)]\n",
    "    # prepare gain\n",
    "    _gain = gain_expand(gain_to_voltage(gain), il_len)\n",
    "    # prepare time\n",
    "    t = [1.0 / il_freq * x for x in range(il_len)]\n",
    "    # build the plot\n",
    "    fig, ax1 = plt.subplots(figsize=(20, 10))\n",
    "    if xlim:\n",
    "        ax1.set_xlim(xlim)\n",
    "    ax2 = ax1.twinx()\n",
    "    ax1.plot(t, il_line, 'b-')\n",
    "    if dots:\n",
    "        ax1.plot(t0, _line0, 'ro')\n",
    "        ax1.plot(t1, _line1, 'yo')\n",
    "    ax2.plot(t, _gain, 'g-')\n",
    "    plt.title(title)\n",
    "    ax1.set_xlabel('Time, us')\n",
    "    ax1.set_ylabel('ADC, V', color='b')\n",
    "    ax2.set_ylabel('DAC, V', color='g')\n",
    "    plt.tight_layout()\n",
    "    plt.show()"
   ]
  },
  {
   "cell_type": "code",
   "execution_count": 4,
   "metadata": {},
   "outputs": [],
   "source": [
    "# For debug purposes - run only for utility functions debugging\n",
    "#test_line0 = line_complex_sin(0)\n",
    "#test_line1 = line_complex_sin(1)\n",
    "#test_gain = gain_staircase(4)\n",
    "#\n",
    "#plot_line(\"Test plot line 0\", test_line0, test_gain)\n",
    "#plot_line(\"Test plot line 0 with zoom\", test_line0, test_gain, [1.0, 5.0])\n",
    "#plot_line(\"Test plot line 1 with zoom\", test_line1, test_gain, [1.0, 2.0])\n",
    "#\n",
    "#plot_line_raw(\"Test plot line 0 raw data\", test_line0, test_gain)\n",
    "#plot_line_raw(\"Test plot line 0 raw data and zoom\", test_line0, test_gain, [1000, 1200])\n",
    "#\n",
    "#plot_interleaved_lines(\"Test plot interleaved line\", test_line0, test_line1, test_gain)\n",
    "#plot_interleaved_lines(\"Test plot interleaved line with zoom\", test_line0, test_line1, test_gain, [2.0, 4.0], True)"
   ]
  },
  {
   "cell_type": "markdown",
   "metadata": {},
   "source": [
    "# Acquisition demonstration"
   ]
  },
  {
   "cell_type": "markdown",
   "metadata": {},
   "source": [
    "## Connect FPGA"
   ]
  },
  {
   "cell_type": "code",
   "execution_count": 5,
   "metadata": {},
   "outputs": [],
   "source": [
    "# init FTDI device\n",
    "fpga = FpgaControl('ftdi://ftdi:2232:/', spi_freq=8E6)\n",
    "# reload configuration (optional step - just to fill BRAM (DACGAIN registers) with initial values)\n",
    "fpga.reload()\n",
    "# reset fpga\n",
    "fpga.reset()"
   ]
  },
  {
   "cell_type": "markdown",
   "metadata": {},
   "source": [
    "## Do acquisition"
   ]
  },
  {
   "cell_type": "code",
   "execution_count": 25,
   "metadata": {},
   "outputs": [],
   "source": [
    "\n",
    "\n",
    "gain = [300]*32\n",
    "gain[0] = 0\n",
    "gain[1] = 50\n",
    "gain[4] = 100\n",
    "gain[5] = 100\n"
   ]
  },
  {
   "cell_type": "code",
   "execution_count": 27,
   "metadata": {},
   "outputs": [
    {
     "data": {
      "text/plain": [
       "<matplotlib.legend.Legend at 0x7f1359c29be0>"
      ]
     },
     "execution_count": 27,
     "metadata": {},
     "output_type": "execute_result"
    },
    {
     "data": {
      "image/png": "[encoded data removed]",
      "text/plain": [
       "<Figure size 1080x360 with 1 Axes>"
      ]
     },
     "metadata": {
      "needs_background": "light"
     },
     "output_type": "display_data"
    }
   ],
   "source": [
    "import struct\n",
    "fpga.csr.hvmuxen = 1\n",
    "fpga.csr.hvmuxsw = 0x00# v#0*(2**16-1)# \n",
    "acq_res4 = fpga.do_acquisition(acq_lines=32, gain=gain, double_rate=True)\n",
    "fpga.csr.hvmuxen = 1\n",
    "fpga.csr.hvmuxsw = 3# v#0*(2**16-1)# \n",
    "acq_res3 = fpga.do_acquisition(acq_lines=32, gain=gain, double_rate=True)\n",
    "plt.figure(figsize=(15,5))\n",
    "plt.plot(acq_res3[0],label=\"0xFF\")\n",
    "#plt.plot( acq_res[0][7000+2500:12000]) \n",
    "plt.plot(acq_res4[0],label=\"0x00\")\n",
    "plt.legend()"
   ]
  },
  {
   "cell_type": "code",
   "execution_count": 28,
   "metadata": {},
   "outputs": [
    {
     "data": {
      "text/plain": [
       "<matplotlib.legend.Legend at 0x7f135ab93128>"
      ]
     },
     "execution_count": 28,
     "metadata": {},
     "output_type": "execute_result"
    },
    {
     "data": {
      "image/png": "[encoded data removed]",
      "text/plain": [
       "<Figure size 1080x360 with 1 Axes>"
      ]
     },
     "metadata": {
      "needs_background": "light"
     },
     "output_type": "display_data"
    }
   ],
   "source": [
    "\n",
    "direct = fpga.do_acquisition(acq_lines=32, gain=gain, double_rate=True)\n",
    "plt.figure(figsize=(15,5))\n",
    "plt.plot(direct[0],label=\"0xFF\") \n",
    "plt.legend()"
   ]
  },
  {
   "cell_type": "code",
   "execution_count": 29,
   "metadata": {},
   "outputs": [],
   "source": [
    "np.savez(\"data.npz\",MUX_on=acq_res3,direct=direct,MUX_off=acq_res4)"
   ]
  },
  {
   "cell_type": "code",
   "execution_count": null,
   "metadata": {},
   "outputs": [],
   "source": []
  }
 ],
 "metadata": {
  "kernelspec": {
   "display_name": "Python 3",
   "language": "python",
   "name": "python3"
  },
  "language_info": {
   "codemirror_mode": {
    "name": "ipython",
    "version": 3
   },
   "file_extension": ".py",
   "mimetype": "text/x-python",
   "name": "python",
   "nbconvert_exporter": "python",
   "pygments_lexer": "ipython3",
   "version": "3.6.9"
  }
 },
 "nbformat": 4,
 "nbformat_minor": 2
}
